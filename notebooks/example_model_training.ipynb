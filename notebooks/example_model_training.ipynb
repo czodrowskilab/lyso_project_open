{
 "cells": [
  {
   "cell_type": "markdown",
   "id": "ae894383-8dac-4040-9cfe-6217c3d97fdb",
   "metadata": {},
   "source": [
    "In this notebook, demonstration of model preparation and training is done using the *lyso_project* module. "
   ]
  },
  {
   "cell_type": "code",
   "execution_count": null,
   "id": "a7b0f92d-791b-49db-907f-2244b55a78af",
   "metadata": {},
   "outputs": [],
   "source": [
    "import numpy as np\n",
    "import pandas as pd\n",
    "import matplotlib.pyplot as plt\n",
    "%matplotlib inline\n",
    "from matplotlib.pylab import rcParams\n",
    "from xgboost import XGBClassifier\n",
    "\n",
    "from collections import Counter"
   ]
  },
  {
   "cell_type": "code",
   "execution_count": null,
   "id": "1a79aedd-aba6-43e1-975b-1dedd89b3dc6",
   "metadata": {},
   "outputs": [],
   "source": [
    "# import lyso_project\n",
    "\n",
    "import sys\n",
    "sys.dont_write_bytecode = True\n",
    "sys.path.append(\"/path/to/lyso_project\")"
   ]
  },
  {
   "cell_type": "code",
   "execution_count": null,
   "id": "d51de54c-fc8f-4eac-ac24-8f56b3f5c38d",
   "metadata": {},
   "outputs": [],
   "source": [
    "import lyso_project\n",
    "from lyso_project import descriptor_maker, preprocess_cp_dataset, utils"
   ]
  },
  {
   "cell_type": "markdown",
   "id": "3d565d60-61df-4ea6-970c-7769fe8c1fb9",
   "metadata": {},
   "source": [
    "*preprocess_cp_dataset* is used to perform filtering on the internal dataset (training and time-split data). For further details, please refer to the **Materials and Method** section of the paper."
   ]
  },
  {
   "cell_type": "code",
   "execution_count": null,
   "id": "dc53e340-c4d9-4136-bee2-7fa56980a7f7",
   "metadata": {},
   "outputs": [],
   "source": [
    "# Read the processed training data as a Pandas DataFrame\n",
    "\n",
    "df_train = pd.read_parquet('df_training.parquet')\n",
    "df_train.info()\n",
    "df_train.head()"
   ]
  },
  {
   "cell_type": "code",
   "execution_count": null,
   "id": "760a5186-eeb0-4ed5-ba17-98d4c2a06cdb",
   "metadata": {},
   "outputs": [],
   "source": [
    "df_train['Lyso_Class'].value_counts().plot(kind='bar')\n",
    "plt.title(\"Class separation - Full dataset\")\n",
    "plt.show()"
   ]
  },
  {
   "cell_type": "code",
   "execution_count": null,
   "id": "5b52cd18-940f-4a40-a851-7159bb8eff98",
   "metadata": {},
   "outputs": [],
   "source": [
    "# Prepare the 'y' variable for model training and cross-validation\n",
    "Y_train = df_train['Lyso_Class'].copy()\n",
    "len(Y_train)"
   ]
  },
  {
   "cell_type": "code",
   "execution_count": null,
   "id": "c6a2cd68-102c-4fcc-a30c-fc7f853960ba",
   "metadata": {},
   "outputs": [],
   "source": [
    "# Get the ratio of non-lyso and lyso class in the dataset\n",
    "\n",
    "# count examples in each class\n",
    "counter = Counter(Y_train)\n",
    "\n",
    "# estimate scale_pos_weight value\n",
    "estimate = counter[0] / counter[1]\n",
    "print('Estimate: %.3f' % estimate)"
   ]
  },
  {
   "cell_type": "code",
   "execution_count": null,
   "id": "fedf7986-e382-4289-b110-6b0a195ecccb",
   "metadata": {},
   "outputs": [],
   "source": [
    "# Make Morgan Fingerprint of radius 2. Bit info must be saved to perform X-FP analysis.\n",
    "\n",
    "X_train_fp_rad2, bi_train_2 = descriptor_maker.fetch_fp_from_df(df_train, radius = 2, bit_info = True, n_bits= 4096)"
   ]
  },
  {
   "cell_type": "code",
   "execution_count": null,
   "id": "44df6fc4-2287-4e11-8c4f-cf717034ed5f",
   "metadata": {},
   "outputs": [],
   "source": [
    "# Make Morgan Fingerprint of radius 3. Bit info must be saved to perform X-FP analysis.\n",
    "\n",
    "X_train_fp_rad3, bi_train_3 = descriptor_maker.fetch_fp_from_df(df_train, radius = 3, bit_info = True, n_bits= 4096)"
   ]
  },
  {
   "cell_type": "code",
   "execution_count": null,
   "id": "b4dee9a9-56b0-420a-864f-7e21effc6850",
   "metadata": {},
   "outputs": [],
   "source": [
    "# Make Morgan Fingerprint of radius 4. Bit info must be saved to perform X-FP analysis.\n",
    "\n",
    "X_train_fp_rad4, bi_train_4 = descriptor_maker.fetch_fp_from_df(df_train, radius = 4, bit_info = True, n_bits= 4096)"
   ]
  },
  {
   "cell_type": "code",
   "execution_count": null,
   "id": "5aa2fab4-e6b0-4065-bc18-998b60cd7596",
   "metadata": {},
   "outputs": [],
   "source": [
    "print(X_train_fp_rad2.shape)\n",
    "print(X_train_fp_rad3.shape)\n",
    "print(X_train_fp_rad4.shape)"
   ]
  },
  {
   "cell_type": "code",
   "execution_count": null,
   "id": "c6b3c77d-ea14-454e-a6eb-97f49aae8752",
   "metadata": {},
   "outputs": [],
   "source": [
    "#reading custom descriptors\n",
    "custom_descriptors = []\n",
    "\n",
    "with open(\"understandable_descriptors.txt\") as reader:\n",
    "    for line in reader:\n",
    "        line = line.rstrip()\n",
    "        custom_descriptors.append(line)\n",
    "\n",
    "print(len(custom_descriptors))"
   ]
  },
  {
   "cell_type": "code",
   "execution_count": null,
   "id": "b5e14568-1eb5-4d92-b337-4a2a0749d2ba",
   "metadata": {},
   "outputs": [],
   "source": [
    "# X_rdkit\n",
    "\n",
    "X_train_rdkit = descriptor_maker.rdkit_descriptor_calculator(df_train, add_logP=True, add_bpKa1=True, add_bpKa2=True, custom_descriptor_list = custom_descriptors)\n",
    "X_train_rdkit.info()\n",
    "X_train_rdkit.head()"
   ]
  },
  {
   "cell_type": "code",
   "execution_count": null,
   "id": "bc2e8193-8277-4fb0-ac59-960727db7d8f",
   "metadata": {},
   "outputs": [],
   "source": [
    "# X_rdkit without logP and bpKa1 and bpKa2\n",
    "\n",
    "X_train_rdkit_without_bpka_logP = descriptor_maker.rdkit_descriptor_calculator(df_train, add_logP=False, add_bpKa1=False, add_bpKa2=False, custom_descriptor_list = custom_descriptors)\n",
    "X_train_rdkit_without_bpka_logP.info()\n",
    "X_train_rdkit_without_bpka_logP.head()"
   ]
  },
  {
   "cell_type": "code",
   "execution_count": null,
   "id": "e25015b7-7a8b-42b5-b3e1-d8466faf0904",
   "metadata": {},
   "outputs": [],
   "source": [
    "# Making Avalon fingerprints\n",
    "X_train_avalon = descriptor_maker.fetch_avalon_fp_from_df(df_train)\n",
    "\n",
    "print(X_train_avalon.shape)"
   ]
  },
  {
   "cell_type": "code",
   "execution_count": null,
   "id": "cb725d56-34d5-452e-b839-7d68aad141c7",
   "metadata": {},
   "outputs": [],
   "source": [
    "# MACCS fingerprints\n",
    "\n",
    "X_train_maccs = descriptor_maker.fetch_maccs_fingerprint_from_df(df_train)\n",
    "\n",
    "print(X_train_maccs.shape)"
   ]
  },
  {
   "cell_type": "code",
   "execution_count": null,
   "id": "ae3fc755-4ef0-45f7-ae17-3229a1b45194",
   "metadata": {},
   "outputs": [],
   "source": [
    "# provide path to save log files. Please ensure that the directory exists.\n",
    "\n",
    "save_file = \"logs_1\"\n",
    "save_path = \"path/to/logs\" # replace \"path/to/logs\" with desired path"
   ]
  },
  {
   "cell_type": "markdown",
   "id": "871395c6-4e0f-4eb6-8cf0-9b4d9ef0db1c",
   "metadata": {},
   "source": [
    "Model objects are made per input type and stratified k-fold CV is done.\n",
    "\n",
    "Note: If you also include a test set during model training process, additional model metrics are also calculated and saved. "
   ]
  },
  {
   "cell_type": "code",
   "execution_count": null,
   "id": "0d7d872c-485b-45e8-8e13-8e21e5ca17fa",
   "metadata": {},
   "outputs": [],
   "source": [
    "from lyso_project.utils import ModelRunner"
   ]
  },
  {
   "cell_type": "code",
   "execution_count": null,
   "id": "9ad665d6-51d9-483e-aed4-910da87bf98b",
   "metadata": {},
   "outputs": [],
   "source": [
    "# morgan fp radius 2 model\n",
    "clf1 = ModelRunner(\"Morgan_FP_radius2\")\n",
    "clf1.model_input(X_train = X_train_fp_rad2, Y_train = Y_train)\n",
    "clf1.make_model(scale_pos_weight = estimate, n_jobs = 5, folds_cv = 5)\n",
    "clf1.save_model(path = save_path)\n",
    "clf1.write_txt_log(filename = save_file, path = save_path)\n",
    "clf1.write_toml_logs(path = save_path)"
   ]
  },
  {
   "cell_type": "code",
   "execution_count": null,
   "id": "a1ef3161-894d-4c2f-a4b4-557e2092d76e",
   "metadata": {},
   "outputs": [],
   "source": [
    "# morgan fp radius 3 model\n",
    "clf2 = ModelRunner(\"Morgan_FP_radius3\")\n",
    "clf2.model_input(X_train = X_train_fp_rad3, Y_train = Y_train)\n",
    "clf2.make_model(scale_pos_weight = estimate, n_jobs = 5, folds_cv = 5)\n",
    "clf2.save_model(path = save_path)\n",
    "clf2.write_txt_log(filename = save_file, path = save_path)\n",
    "clf2.write_toml_logs(path = save_path)"
   ]
  },
  {
   "cell_type": "code",
   "execution_count": null,
   "id": "d72b65f7-bae4-4d4c-ac19-91c64e943447",
   "metadata": {},
   "outputs": [],
   "source": [
    "# morgan fp radius 4 model \n",
    "clf3 = ModelRunner(\"Morgan_FP_radius4\")\n",
    "clf3.model_input(X_train = X_train_fp_rad4, Y_train = Y_train)\n",
    "clf3.make_model(scale_pos_weight = estimate, n_jobs = 5, folds_cv = 5)\n",
    "clf3.save_model(path = save_path)\n",
    "clf3.write_txt_log(filename = save_file, path = save_path)\n",
    "clf3.write_toml_logs(path = save_path)"
   ]
  },
  {
   "cell_type": "code",
   "execution_count": null,
   "id": "e5fb6837-4c09-4fb1-96c2-2c034c6f3e92",
   "metadata": {},
   "outputs": [],
   "source": [
    "# rdkit desc model\n",
    "clf4 = ModelRunner(\"Select_RDKit_desc_with_logP_bpKa1\")\n",
    "clf4.model_input(X_train = X_train_rdkit, Y_train= Y_train, scaled=False)\n",
    "clf4.make_model(scale_pos_weight = estimate, n_jobs = 5, folds_cv = 5)\n",
    "clf4.save_model(path = save_path)\n",
    "clf4.write_txt_log(filename = save_file, path = save_path)\n",
    "clf4.write_toml_logs(path = save_path)"
   ]
  },
  {
   "cell_type": "code",
   "execution_count": null,
   "id": "bff01f24-2f82-4ccf-ad33-e3cabccec331",
   "metadata": {},
   "outputs": [],
   "source": [
    "# rdkit desc model without bpKa1 and logP\n",
    "clf5 = ModelRunner(\"Select_RDKit_desc\")\n",
    "clf5.model_input(X_train = X_train_rdkit_without_bpka_logP, Y_train= Y_train, scaled=False)\n",
    "clf5.make_model(scale_pos_weight = estimate, n_jobs = 5, folds_cv = 5)\n",
    "clf5.save_model(path = save_path)\n",
    "clf5.write_txt_log(filename = save_file, path = save_path)\n",
    "clf5.write_toml_logs(path = save_path)"
   ]
  },
  {
   "cell_type": "code",
   "execution_count": null,
   "id": "c837fb84-48ec-4447-aa10-3ed6ea881576",
   "metadata": {},
   "outputs": [],
   "source": [
    "# avalon fingerprints model\n",
    "clf6 = ModelRunner(\"Avalon_fp\")\n",
    "clf6.model_input(X_train = X_train_avalon, Y_train= Y_train)\n",
    "clf6.make_model(scale_pos_weight = estimate, n_jobs = 5, folds_cv = 5)\n",
    "clf6.save_model(path = save_path)\n",
    "clf6.write_txt_log(filename = save_file, path = save_path)\n",
    "clf6.write_toml_logs(path = save_path)"
   ]
  },
  {
   "cell_type": "code",
   "execution_count": null,
   "id": "b542e275-0284-4de1-9bad-2dbeb1dafd7e",
   "metadata": {},
   "outputs": [],
   "source": [
    "# MACCS model\n",
    "clf7 = ModelRunner(\"MACCS\")\n",
    "clf7.model_input(X_train = X_train_maccs, Y_train= Y_train)\n",
    "clf7.make_model(scale_pos_weight = estimate, n_jobs = 5, folds_cv = 5)\n",
    "clf7.save_model(path = save_path)\n",
    "clf7.write_txt_log(filename = save_file, path = save_path)\n",
    "clf7.write_toml_logs(path = save_path)"
   ]
  },
  {
   "cell_type": "markdown",
   "id": "6590b408-db42-4477-a690-db707f5dd9fb",
   "metadata": {},
   "source": [
    "Plot of the models' cross-validation performances is displayed. If path is provided, it is also saved.\n",
    "\n",
    "In case a test set is provided, an additional plot of models' performances is also prepared."
   ]
  },
  {
   "cell_type": "code",
   "execution_count": null,
   "id": "140a757b-7274-4049-9a05-8fef2de43e3b",
   "metadata": {},
   "outputs": [],
   "source": [
    "from lyso_project import toml_log_reader_with_plotter as tp\n",
    "tp.toml_reader_from_dict_plus_plotter(path_in = save_path)"
   ]
  }
 ],
 "metadata": {
  "kernelspec": {
   "display_name": "Python 3 (ipykernel)",
   "language": "python",
   "name": "python3"
  },
  "language_info": {
   "codemirror_mode": {
    "name": "ipython",
    "version": 3
   },
   "file_extension": ".py",
   "mimetype": "text/x-python",
   "name": "python",
   "nbconvert_exporter": "python",
   "pygments_lexer": "ipython3",
   "version": "3.12.0"
  }
 },
 "nbformat": 4,
 "nbformat_minor": 5
}
